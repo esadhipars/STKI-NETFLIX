{
  "nbformat": 4,
  "nbformat_minor": 0,
  "metadata": {
    "colab": {
      "provenance": [],
      "toc_visible": true
    },
    "kernelspec": {
      "name": "python3",
      "display_name": "Python 3"
    },
    "language_info": {
      "name": "python"
    }
  },
  "cells": [
    {
      "cell_type": "code",
      "execution_count": null,
      "metadata": {
        "id": "_ZAlUyLUqtAq"
      },
      "outputs": [],
      "source": [
        "import pandas as pd\n",
        "import numpy as np\n",
        "\n",
        "# Memuat dataset\n",
        "data = pd.read_csv(\"/content/drive/MyDrive/STKI/data.csv\")\n",
        "id_wilayah = pd.read_csv(\"/content/drive/MyDrive/STKI/Country Codes Alpha-2 Alpha-3.csv\")\n"
      ]
    },
    {
      "cell_type": "code",
      "source": [
        "#cleaning data untuk menghilangkan missing value\n",
        "data = data[data['title'].isna()==False]\n",
        "data['url'] = data['url'].fillna('https://www.netflix.com/')\n",
        "data['genres'] = data['genres'].fillna('Other')\n",
        "data['imdbId'] = data['imdbId'].fillna('Unknown')\n",
        "data['imdbAverageRating'] = data['imdbAverageRating'].fillna(data['imdbAverageRating'].mean())\n",
        "data['imdbNumVotes'] = data['imdbNumVotes'].fillna(data['imdbNumVotes'].mean())"
      ],
      "metadata": {
        "colab": {
          "base_uri": "https://localhost:8080/"
        },
        "id": "4nkfZCjT7P7I",
        "outputId": "6f914947-1477-4d71-be54-138b82f4a5d3"
      },
      "execution_count": null,
      "outputs": [
        {
          "output_type": "stream",
          "name": "stderr",
          "text": [
            "<ipython-input-5-463a84c53928>:3: SettingWithCopyWarning: \n",
            "A value is trying to be set on a copy of a slice from a DataFrame.\n",
            "Try using .loc[row_indexer,col_indexer] = value instead\n",
            "\n",
            "See the caveats in the documentation: https://pandas.pydata.org/pandas-docs/stable/user_guide/indexing.html#returning-a-view-versus-a-copy\n",
            "  data['url'] = data['url'].fillna('https://www.netflix.com/')\n",
            "<ipython-input-5-463a84c53928>:4: SettingWithCopyWarning: \n",
            "A value is trying to be set on a copy of a slice from a DataFrame.\n",
            "Try using .loc[row_indexer,col_indexer] = value instead\n",
            "\n",
            "See the caveats in the documentation: https://pandas.pydata.org/pandas-docs/stable/user_guide/indexing.html#returning-a-view-versus-a-copy\n",
            "  data['genres'] = data['genres'].fillna('Other')\n",
            "<ipython-input-5-463a84c53928>:5: SettingWithCopyWarning: \n",
            "A value is trying to be set on a copy of a slice from a DataFrame.\n",
            "Try using .loc[row_indexer,col_indexer] = value instead\n",
            "\n",
            "See the caveats in the documentation: https://pandas.pydata.org/pandas-docs/stable/user_guide/indexing.html#returning-a-view-versus-a-copy\n",
            "  data['imdbId'] = data['imdbId'].fillna('Unknown')\n",
            "<ipython-input-5-463a84c53928>:6: SettingWithCopyWarning: \n",
            "A value is trying to be set on a copy of a slice from a DataFrame.\n",
            "Try using .loc[row_indexer,col_indexer] = value instead\n",
            "\n",
            "See the caveats in the documentation: https://pandas.pydata.org/pandas-docs/stable/user_guide/indexing.html#returning-a-view-versus-a-copy\n",
            "  data['imdbAverageRating'] = data['imdbAverageRating'].fillna(data['imdbAverageRating'].mean())\n",
            "<ipython-input-5-463a84c53928>:7: SettingWithCopyWarning: \n",
            "A value is trying to be set on a copy of a slice from a DataFrame.\n",
            "Try using .loc[row_indexer,col_indexer] = value instead\n",
            "\n",
            "See the caveats in the documentation: https://pandas.pydata.org/pandas-docs/stable/user_guide/indexing.html#returning-a-view-versus-a-copy\n",
            "  data['imdbNumVotes'] = data['imdbNumVotes'].fillna(data['imdbNumVotes'].mean())\n"
          ]
        }
      ]
    },
    {
      "cell_type": "code",
      "source": [
        "# teknik untuk mencari film berdasarkan parameter dan mengurutkannya\n",
        "def search_movies(type=None, genre=None, year=None, country=None):\n",
        "    alpha = id_wilayah[id_wilayah['country'] == country.capitalize()]\n",
        "    input_wilayah = alpha['alpha2'].tolist()[0]\n",
        "    print(input_wilayah)\n",
        "    filtered_data = data\n",
        "    if type:\n",
        "        filtered_data = filtered_data[filtered_data['type'] == type]\n",
        "    if genre:\n",
        "        genres_list = [genree.strip().lower() for genree in genre.split(',')] # Filter baris data di mana genre sesuai\n",
        "        filtered_data = filtered_data[filtered_data['genres'].apply(lambda x: isinstance(x, str) and any(g in [gen.strip().lower() for gen in x.split(',')] for g in genres_list))]\n",
        "    if year:\n",
        "        years_list = [float(year.strip()) for year in year.split(',')] # Filter baris data di mana tahun sesuai\n",
        "        filtered_data = filtered_data[filtered_data['releaseYear'].isin(years_list)]\n",
        "    if country:\n",
        "        filtered_data = filtered_data[filtered_data['availableCountries'].str.contains(input_wilayah, case=False, na=False)]\n",
        "\n",
        "    sorted_data = filtered_data.sort_values(by='imdbAverageRating', ascending=False)\n",
        "\n",
        "    return sorted_data\n",
        "\n",
        "# type = 'movie'\n",
        "# genre = 'action'\n",
        "# year = '2018,2022'\n",
        "# country = 'indonesia'\n",
        "type = input('type movie dan tv : ')\n",
        "genre = input('genrenya apa : ')\n",
        "year = input('tahun rilis : ')\n",
        "country = input('id wilayah : ')\n",
        "jumlah_rekomendasi = int(input('masukan jumlah film yang akan direkomendasi'))\n",
        "\n",
        "sorted_movies = search_movies(type=type,year=year,country=country,genre=genre).head(jumlah_rekomendasi)\n",
        "print(sorted_movies[['title','type', 'genres', 'releaseYear', 'imdbAverageRating']].to_string(index=False))\n"
      ],
      "metadata": {
        "colab": {
          "base_uri": "https://localhost:8080/"
        },
        "id": "YCrjNSyZtBG8",
        "outputId": "b05db4d1-b0dc-4ea1-d504-d8fe72b3628f"
      },
      "execution_count": null,
      "outputs": [
        {
          "output_type": "stream",
          "name": "stdout",
          "text": [
            "type movie dan tv : movie\n",
            "genrenya apa : horror\n",
            "tahun rilis : 2005\n",
            "id wilayah : Indonesia\n",
            "masukan jumlah film yang akan direkomendasi20\n",
            "ID\n",
            "                            title  type                     genres  releaseYear  imdbAverageRating\n",
            "                      Constantine movie    Action, Fantasy, Horror       2005.0                7.0\n",
            "                           Hostel movie                     Horror       2005.0                5.9\n",
            "                         The Maid movie     Drama, Horror, Mystery       2005.0                5.7\n",
            "Dominion: Prequel to the Exorcist movie    Drama, Horror, Thriller       2005.0                5.1\n",
            "                             Kaal movie Adventure, Horror, Mystery       2005.0                4.7\n"
          ]
        }
      ]
    },
    {
      "cell_type": "code",
      "source": [
        "!pip install scikit-learn"
      ],
      "metadata": {
        "colab": {
          "base_uri": "https://localhost:8080/"
        },
        "id": "w8gQCNIbQ766",
        "outputId": "1b0d9aa7-90c5-4946-df21-7afcdd81ce46"
      },
      "execution_count": null,
      "outputs": [
        {
          "output_type": "stream",
          "name": "stdout",
          "text": [
            "Requirement already satisfied: scikit-learn in /usr/local/lib/python3.10/dist-packages (1.5.2)\n",
            "Requirement already satisfied: numpy>=1.19.5 in /usr/local/lib/python3.10/dist-packages (from scikit-learn) (1.26.4)\n",
            "Requirement already satisfied: scipy>=1.6.0 in /usr/local/lib/python3.10/dist-packages (from scikit-learn) (1.13.1)\n",
            "Requirement already satisfied: joblib>=1.2.0 in /usr/local/lib/python3.10/dist-packages (from scikit-learn) (1.4.2)\n",
            "Requirement already satisfied: threadpoolctl>=3.1.0 in /usr/local/lib/python3.10/dist-packages (from scikit-learn) (3.5.0)\n"
          ]
        }
      ]
    },
    {
      "cell_type": "code",
      "source": [
        "from sklearn.feature_extraction.text import TfidfVectorizer\n",
        "from sklearn.metrics.pairwise import cosine_similarity\n",
        "\n",
        "\n",
        "data['genres'] = data['genres'].str.lower()\n",
        "# Menggunakan TF-Iata Vectorizer untuk merepresentasikan genre sebagai vektor\n",
        "vectorizer = TfidfVectorizer(tokenizer=lambda x: x.split(', '))\n",
        "tfidf_matrix = vectorizer.fit_transform(data['genres'])\n",
        "\n",
        "# Menghitung frekuensi genre menggunakan vektor TF-IDF\n",
        "genre_frequencies = tfidf_matrix.sum(axis=0).A1\n",
        "genre_terms = vectorizer.get_feature_names_out()\n",
        "genre_counts = dict(zip(genre_terms, genre_frequencies))\n",
        "\n",
        "# Menampilkan frekuensi genre\n",
        "\n",
        "# print(\"Frekuensi Genre:\")\n",
        "# for genre, count in genre_counts.items():\n",
        "#     print(f\"{genre}: {count:.2f}\")\n",
        "\n",
        "\n",
        "#permintaan pencarian\n",
        "\n",
        "print(\"cari film berdasarkan kombinasi genre menggunakan tfidf atau vector space model\")\n",
        "print(\"-------------\")\n",
        "print(\"\\n\")\n",
        "query = input('masukan genre apa saja yang ingin dicari : ').lower()\n",
        "jumlah_hasil = int(input('jumlah hasil yang diinginkan : '))\n",
        "\n",
        "# Mengonversi permintaan pencarian menjadi vektor TF-IDF\n",
        "query_vector = vectorizer.transform([query])\n",
        "\n",
        "# Menghitung cosine similarity antara permintaan dan film\n",
        "cosine_sim = cosine_similarity(query_vector, tfidf_matrix).flatten()\n",
        "\n",
        "# Menampilkan hasil pencarian berdasarkan kemiripan\n",
        "results = cosine_sim.argsort()[::-1][:50]\n",
        "\n",
        "print(\"\\nHasil Pencarian:\")\n",
        "for idx in results:\n",
        "    print(f\"Title: {data.loc[idx, 'title']}, Genre: {data.loc[idx, 'genres']} (Skor: {cosine_sim[idx]:.4f})\")\n"
      ],
      "metadata": {
        "colab": {
          "base_uri": "https://localhost:8080/"
        },
        "id": "Memo0pR_RJ3-",
        "outputId": "9aebf508-82a1-4c7c-93b7-5969f71d46a7"
      },
      "execution_count": null,
      "outputs": [
        {
          "output_type": "stream",
          "name": "stdout",
          "text": [
            "cari film berdasarkan kombinasi genre menggunakan tfidf atau vector space model\n",
            "-------------\n",
            "\n",
            "\n",
            "masukan genre apa saja yang ingin dicari : horror\n",
            "jumlah hasil yang diinginkan : 10\n",
            "\n",
            "Hasil Pencarian:\n",
            "Title: The Chanting 3, Genre: horror (Skor: 1.0000)\n",
            "Title: The Revenge of Robert the Doll, Genre: horror (Skor: 1.0000)\n",
            "Title: Lust for a Vampire, Genre: horror (Skor: 1.0000)\n",
            "Title: Bring Back the Dead, Genre: horror (Skor: 1.0000)\n",
            "Title: Two Witches, Genre: horror (Skor: 1.0000)\n",
            "Title: The Evil Dead, Genre: horror (Skor: 1.0000)\n",
            "Title: Follow Me to Hell, Genre: horror (Skor: 1.0000)\n",
            "Title: Jengka, Genre: horror (Skor: 1.0000)\n",
            "Title: Pwera usog, Genre: horror (Skor: 1.0000)\n",
            "Title: The Crazies, Genre: horror (Skor: 1.0000)\n",
            "Title: 40 Hari Bangkitnya Pocong, Genre: horror (Skor: 1.0000)\n",
            "Title: Aura, Genre: horror (Skor: 1.0000)\n",
            "Title: Hostel: Part III, Genre: horror (Skor: 1.0000)\n",
            "Title: Amityville Playhouse, Genre: horror (Skor: 1.0000)\n",
            "Title: Nail Demon, Genre: horror (Skor: 1.0000)\n",
            "Title: The Chanting, Genre: horror (Skor: 1.0000)\n",
            "Title: Danur 2: Maddah, Genre: horror (Skor: 1.0000)\n",
            "Title: Dabbe 5: Curse of the Jinn, Genre: horror (Skor: 1.0000)\n",
            "Title: Mystic Singer, Genre: horror (Skor: 1.0000)\n",
            "Title: Curse of the Witching Tree, Genre: horror (Skor: 1.0000)\n",
            "Title: The Ancestral, Genre: horror (Skor: 1.0000)\n",
            "Title: The Debutantes, Genre: horror (Skor: 1.0000)\n",
            "Title: Sunod, Genre: horror (Skor: 1.0000)\n",
            "Title: Ju-on: The Grudge, Genre: horror (Skor: 1.0000)\n",
            "Title: It Exists, Genre: horror (Skor: 1.0000)\n",
            "Title: Prom Night, Genre: horror (Skor: 1.0000)\n",
            "Title: The Strangers: Prey at Night, Genre: horror (Skor: 1.0000)\n",
            "Title: It, Genre: horror (Skor: 1.0000)\n",
            "Title: Lost, Genre: horror (Skor: 1.0000)\n",
            "Title: The Curse of Halloween Jack, Genre: horror (Skor: 1.0000)\n",
            "Title: The 4 Movie, Genre: horror (Skor: 1.0000)\n",
            "Title: Scars of Dracula, Genre: horror (Skor: 1.0000)\n",
            "Title: Belzebuth, Genre: horror (Skor: 1.0000)\n",
            "Title: Art of the Devil 3, Genre: horror (Skor: 1.0000)\n",
            "Title: Hide and Never Seek, Genre: horror (Skor: 1.0000)\n",
            "Title: The Curse of Robert the Doll, Genre: horror (Skor: 1.0000)\n",
            "Title: Halloween II, Genre: horror (Skor: 1.0000)\n",
            "Title: When Evil Lurks, Genre: horror (Skor: 1.0000)\n",
            "Title: The Inhabitant, Genre: horror (Skor: 1.0000)\n",
            "Title: Late Night with the Devil, Genre: horror (Skor: 1.0000)\n",
            "Title: Voice, Genre: horror (Skor: 1.0000)\n",
            "Title: The Chanting 2, Genre: horror (Skor: 1.0000)\n",
            "Title: Tales from the Dark Part 2, Genre: horror (Skor: 1.0000)\n",
            "Title: Evil Dead, Genre: horror (Skor: 1.0000)\n",
            "Title: Tales from the Dark 1, Genre: horror (Skor: 1.0000)\n",
            "Title: The Offering, Genre: horror (Skor: 1.0000)\n",
            "Title: Evil Dead Rise, Genre: horror (Skor: 1.0000)\n",
            "Title: Liverleaf, Genre: horror (Skor: 1.0000)\n",
            "Title: The Sin, Genre: horror (Skor: 1.0000)\n",
            "Title: Cradle of Fear, Genre: horror (Skor: 1.0000)\n"
          ]
        }
      ]
    }
  ]
}